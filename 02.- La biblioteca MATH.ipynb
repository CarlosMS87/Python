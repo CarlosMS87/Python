{
 "metadata": {
  "name": "",
  "signature": "sha256:c82a21bc0385f38b8b9c7033dd4c479b5ddfcf8d7b8510bea914a8dc1d040aee"
 },
 "nbformat": 3,
 "nbformat_minor": 0,
 "worksheets": [
  {
   "cells": [
    {
     "cell_type": "markdown",
     "metadata": {},
     "source": [
      "#<div class=\"alert alert-success\">La biblioteca MATH.</div>"
     ]
    },
    {
     "cell_type": "markdown",
     "metadata": {},
     "source": [
      "Para realizar c\u00e1lculos con las funciones habituales que aparecen en las calculadoras cient\u00edficas debemos **importar ciertas bibliotecas** (tambi\u00e9n denominados m\u00f3dulos). La m\u00e1s sencilla de usar es la biblioteca **MATH** que viene de serie con Python. Existen **diversas formas de cargar las bibliotecas** y cada una es adecuada en funci\u00f3n de lo que estemos realizando.\n",
      "\n",
      "Para obtener un listado de todas las funciones disponibles en la biblioteca *math* escribimos \"math.\" y **presionamos el tabulador**. Si hemos comenzado a escribir una funci\u00f3n, el tabulador nos la puede completar."
     ]
    },
    {
     "cell_type": "markdown",
     "metadata": {},
     "source": [
      "###<div class=\"alert alert-warning\">Carga la bibliteca Math y realiza los siguientes c\u00e1lculos:</div>\n",
      "\n",
      "\n",
      "* $\\sqrt{56}$\n",
      "\n",
      "\n",
      "* $\\cos(\\pi/3)$\n",
      "\n",
      "\n",
      "* $\\ln(9)$\n",
      "\n",
      "\n",
      "* Consulta la ayuda de la funci\u00f3n $\\log$ y calcula $\\log_3(89)$. Comprueba el resultado.\n",
      "\n",
      "\n",
      "* $\\arccos(0.5)$\n",
      "\n",
      "\n",
      "* $\\tan(45^o)$"
     ]
    },
    {
     "cell_type": "markdown",
     "metadata": {},
     "source": [
      "###<div class=\"alert alert-warning\">Calcula:</div>\n",
      "\n",
      "\n",
      "* $\\pi^2$\n",
      "\n",
      "\n",
      "* $e^6$\n",
      "\n",
      "\n",
      "* $\\exp(6)$"
     ]
    },
    {
     "cell_type": "markdown",
     "metadata": {},
     "source": [
      "Cargar la biblioteca de la manera que lo hemos hecho tiene el \"inconveniente\" de que siempre tenemos que escribir \"math.\" antes de escribir la funci\u00f3n. Aunque en realidad esto es una buena idea, en matem\u00e1ticas estamos m\u00e1s acostrumbrados a escribir \u00fanicamente el nombre de la funci\u00f3n. Para ello debemos cargar la biblioteca con la sentencia **from math import * **."
     ]
    },
    {
     "cell_type": "markdown",
     "metadata": {},
     "source": [
      "###<div class=\"alert alert-warning\">Carga la biblioteca con la sentencia *from ... import* y calcula:<div>\n",
      "\n",
      "\n",
      "* $\\cos(\\ln(9)$)\n",
      "\n",
      "\n",
      "* $45!$\n",
      "\n",
      "\n",
      "* $\\gamma(46)$\n",
      "\n",
      "\n",
      "* $\\sqrt{89}$"
     ]
    }
   ],
   "metadata": {}
  }
 ]
}
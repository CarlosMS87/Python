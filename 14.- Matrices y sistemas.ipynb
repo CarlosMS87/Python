{
 "metadata": {
  "name": "",
  "signature": "sha256:90e1acfd680fcb17c9cc6b791bc144de4c4899aacbf79de92fcd13481f41e511"
 },
 "nbformat": 3,
 "nbformat_minor": 0,
 "worksheets": [
  {
   "cells": [
    {
     "cell_type": "markdown",
     "metadata": {},
     "source": [
      "#<div class=\"alert alert-success\">Matrices, operaciones y sistemas</div>"
     ]
    },
    {
     "cell_type": "code",
     "collapsed": false,
     "input": [
      "from sympy import *\n",
      "init_printing(use_latex='mathjax')\n",
      "x, y, z = symbols('x, y, z')"
     ],
     "language": "python",
     "metadata": {},
     "outputs": [],
     "prompt_number": 1
    },
    {
     "cell_type": "markdown",
     "metadata": {},
     "source": [
      "Para construir matrices se utiliza el \"contructor\" **Matrix**, que crea un objeto de tipo matriz (en realidad el tipo lo denomina Sympy *MutableDenseMatrix*). Una matriz es una lista de listas y por lo tanto debemos escribir cada fila entre corchetes (aunque tambi\u00e9n se pueden utilizar tuplas, que se escriben con par\u00e9ntesis). Como la matriz es tambi\u00e9n una lista, debe llevar otros corchetes. \n",
      "\n",
      "**Las operaciones con matrices se realizan con los operadores habituales**."
     ]
    },
    {
     "cell_type": "markdown",
     "metadata": {},
     "source": [
      "###<div class=\"alert alert-warning\">Realiza operaciones con las matrices, comprobando que el producto no es conmutativo:</div>\n",
      "\n",
      "$$ A=\\begin{pmatrix}\n",
      "5 & 7 & 8 \\\\\n",
      "-3 & 4 & 2 \\\\\n",
      "4 & 7 & 9 \n",
      "\\end{pmatrix}\n",
      "\\qquad\n",
      "B =\\begin{pmatrix}\n",
      "1 & 2 & 3 \\\\\n",
      "4 & 5 & 6 \\\\\n",
      "7 & 8 & 9\n",
      "\\end{pmatrix}\n",
      "$$"
     ]
    },
    {
     "cell_type": "code",
     "collapsed": false,
     "input": [
      "A=Matrix(((2,3))); \n",
      "A."
     ],
     "language": "python",
     "metadata": {},
     "outputs": [
      {
       "latex": [
        "$$\\left[\\begin{matrix}2\\\\3\\end{matrix}\\right]$$"
       ],
       "metadata": {},
       "output_type": "pyout",
       "prompt_number": 7,
       "text": [
        "\u23a12\u23a4\n",
        "\u23a2 \u23a5\n",
        "\u23a33\u23a6"
       ]
      }
     ],
     "prompt_number": 7
    },
    {
     "cell_type": "code",
     "collapsed": false,
     "input": [
      "type(A)"
     ],
     "language": "python",
     "metadata": {},
     "outputs": [
      {
       "metadata": {},
       "output_type": "pyout",
       "prompt_number": 6,
       "text": [
        "sympy.matrices.dense.MutableDenseMatrix"
       ]
      }
     ],
     "prompt_number": 6
    },
    {
     "cell_type": "code",
     "collapsed": false,
     "input": [],
     "language": "python",
     "metadata": {},
     "outputs": []
    },
    {
     "cell_type": "markdown",
     "metadata": {},
     "source": [
      "Para calcular el determinante empleamos el m\u00e9todo **det**, para la traza **trace** y para calcular la inversa el m\u00e9todo **inv**, aunque ya hemos visto que podemos invertir una matriz elevando la matriz a $-1$. En el caso de una matriz no invertible se produce un error (lo que en Python se denomina una excepci\u00f3n). Para calcular la matriz transpuesta empleamos el m\u00e9todo **T** o tambi\u00e9n **transpose**. "
     ]
    },
    {
     "cell_type": "markdown",
     "metadata": {},
     "source": [
      "###<div class=\"alert alert-warning\">Calcula el determinante, la traza y la inversa de las matrices anteriores y de sus transpuestas.</div>"
     ]
    },
    {
     "cell_type": "code",
     "collapsed": false,
     "input": [],
     "language": "python",
     "metadata": {},
     "outputs": [],
     "prompt_number": 7
    },
    {
     "cell_type": "markdown",
     "metadata": {},
     "source": [
      "Para calcular el rango empleamos **rank** y para reducir a la forma escalonada **rref**."
     ]
    },
    {
     "cell_type": "markdown",
     "metadata": {},
     "source": [
      "###<div class=\"alert alert-warning\">Calcula el rango y la traza de las matrices. Reduce las matrices a la forma escalonada.</div>"
     ]
    },
    {
     "cell_type": "code",
     "collapsed": false,
     "input": [],
     "language": "python",
     "metadata": {},
     "outputs": []
    },
    {
     "cell_type": "code",
     "collapsed": false,
     "input": [],
     "language": "python",
     "metadata": {},
     "outputs": [],
     "prompt_number": 33
    },
    {
     "cell_type": "markdown",
     "metadata": {},
     "source": [
      "Para \"construir\" matrices especiales  existen otros contructores. Los m\u00e1s sencillos son: **eye**, que crea la matriz identidad, **zeros**, que crea una matriz llena de ceros, **ones** que crea una matriz llena de unos y **diag** que crea una matriz con la diagonal que le especifiquemos."
     ]
    },
    {
     "cell_type": "markdown",
     "metadata": {},
     "source": [
      "###<div class=\"alert alert-warning\">Crea matrices utilizando los constructores anteriores.</div>"
     ]
    },
    {
     "cell_type": "code",
     "collapsed": false,
     "input": [
      "A=diag(3,5,7)"
     ],
     "language": "python",
     "metadata": {},
     "outputs": [],
     "prompt_number": 13
    },
    {
     "cell_type": "code",
     "collapsed": false,
     "input": [
      "type(A)"
     ],
     "language": "python",
     "metadata": {},
     "outputs": [
      {
       "metadata": {},
       "output_type": "pyout",
       "prompt_number": 14,
       "text": [
        "sympy.matrices.dense.MutableDenseMatrix"
       ]
      }
     ],
     "prompt_number": 14
    },
    {
     "cell_type": "markdown",
     "metadata": {},
     "source": [
      "Para resolver un sistema lineal podemos emplear el comando **solve**, escribiendo las ecuaciones entre corchetes y separados por comas. Pero  hay un comando especialmente dedicado: **solve_linear_system**. Tiene un \u00fanico par\u00e1metro, que es la matriz ampliada del sistema. Adem\u00e1s despu\u00e9s debemos escribir, en orden, las variables del sistema."
     ]
    },
    {
     "cell_type": "markdown",
     "metadata": {},
     "source": [
      "###<div class=\"alert alert-warning\">Resuelve el sistema lineal:</div>\n",
      "\n",
      "$$\n",
      "\\begin{cases}\n",
      "3x+2y-z=3\\\\\n",
      "x+y-2z=-5\\\\\n",
      "2x+y+3z=16\n",
      "\\end{cases}\n",
      "$$"
     ]
    },
    {
     "cell_type": "code",
     "collapsed": false,
     "input": [
      "M=Matrix([[3,2,-1,3],[1,1,-2,-5],[2,1,3,16]]); M"
     ],
     "language": "python",
     "metadata": {},
     "outputs": [
      {
       "latex": [
        "$$\\left[\\begin{matrix}3 & 2 & -1 & 3\\\\1 & 1 & -2 & -5\\\\2 & 1 & 3 & 16\\end{matrix}\\right]$$"
       ],
       "metadata": {},
       "output_type": "pyout",
       "prompt_number": 16,
       "text": [
        "\u23a13  2  -1  3 \u23a4\n",
        "\u23a2            \u23a5\n",
        "\u23a21  1  -2  -5\u23a5\n",
        "\u23a2            \u23a5\n",
        "\u23a32  1  3   16\u23a6"
       ]
      }
     ],
     "prompt_number": 16
    },
    {
     "cell_type": "code",
     "collapsed": false,
     "input": [
      "solve_linear_system(M,x,y,z)"
     ],
     "language": "python",
     "metadata": {},
     "outputs": [
      {
       "latex": [
        "$$\\begin{Bmatrix}x : 1, & y : 2, & z : 4\\end{Bmatrix}$$"
       ],
       "metadata": {},
       "output_type": "pyout",
       "prompt_number": 17,
       "text": [
        "{x: 1, y: 2, z: 4}"
       ]
      }
     ],
     "prompt_number": 17
    },
    {
     "cell_type": "markdown",
     "metadata": {},
     "source": [
      "El m\u00e9todo **row_del** sirve para borrar filas de una matriz."
     ]
    },
    {
     "cell_type": "markdown",
     "metadata": {},
     "source": [
      "###<div class=\"alert alert-warning\">Borra la \u00faltima fila del sistema y resuelve el sistema indeterminado.</div>"
     ]
    },
    {
     "cell_type": "code",
     "collapsed": false,
     "input": [],
     "language": "python",
     "metadata": {},
     "outputs": []
    },
    {
     "cell_type": "markdown",
     "metadata": {},
     "source": [
      "Si intentamos resolver un sistema incompatible, Sympy no nos devuelve ninguna soluci\u00f3n, por lo que parece que no est\u00e1 funcionando correctamente."
     ]
    },
    {
     "cell_type": "markdown",
     "metadata": {},
     "source": [
      "###<div class=\"alert alert-warning\">Comprueba que el siguiente sistema es incompatible:</div>\n",
      "$$\n",
      "\\begin{cases}\n",
      "x+y-z &=1\\\\\n",
      "x-y+3z&=3\\\\\n",
      "3x+y+z &=6\n",
      "\\end{cases}\n",
      "$$"
     ]
    },
    {
     "cell_type": "code",
     "collapsed": false,
     "input": [
      "M=Matrix([[1,1,-1,1],[1,-1,3,3],[3,1,1,6]]);M"
     ],
     "language": "python",
     "metadata": {},
     "outputs": [
      {
       "latex": [
        "$$\\left[\\begin{matrix}1 & 1 & -1 & 1\\\\1 & -1 & 3 & 3\\\\3 & 1 & 1 & 6\\end{matrix}\\right]$$"
       ],
       "metadata": {},
       "output_type": "pyout",
       "prompt_number": 23,
       "text": [
        "\u23a11  1   -1  1\u23a4\n",
        "\u23a2            \u23a5\n",
        "\u23a21  -1  3   3\u23a5\n",
        "\u23a2            \u23a5\n",
        "\u23a33  1   1   6\u23a6"
       ]
      }
     ],
     "prompt_number": 23
    },
    {
     "cell_type": "markdown",
     "metadata": {},
     "source": [
      "Los sistemas compatibles indeterminados se caracterizan por tener infinitas soluciones. Desde un punto de vista geom\u00e9trico, esto se debe a que la aplicaci\u00f3n lineal tiene un n\u00facleo no trivial. Para encontrar el n\u00facleo de una matriz empleamos **nullspace**."
     ]
    },
    {
     "cell_type": "markdown",
     "metadata": {},
     "source": [
      "###<div class=\"alert alert-warning\">Encontrar el n\u00facleo de la matriz $B$.</div>"
     ]
    },
    {
     "cell_type": "code",
     "collapsed": false,
     "input": [],
     "language": "python",
     "metadata": {},
     "outputs": []
    }
   ],
   "metadata": {}
  }
 ]
}
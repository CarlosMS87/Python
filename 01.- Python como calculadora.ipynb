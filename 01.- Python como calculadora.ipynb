{
 "metadata": {
  "name": "",
  "signature": "sha256:0f1b78119d49f59458b3400ed2a2be0632b419c21f5fecfcaf607531e9d9feb8"
 },
 "nbformat": 3,
 "nbformat_minor": 0,
 "worksheets": [
  {
   "cells": [
    {
     "cell_type": "markdown",
     "metadata": {},
     "source": [
      "#<div class=\"alert alert-success\">1.- Python como calculadora</div>"
     ]
    },
    {
     "cell_type": "markdown",
     "metadata": {},
     "source": [
      "Python es un lenguaje de programaci\u00f3n de prop\u00f3sito general pero que se adapta muy bien a la realizaci\u00f3n de c\u00e1lculos matem\u00e1ticos. En general, para realizar ciertas operaciones matem\u00e1ticas debemos \"cargar\" diversas bibliotecas orientadas al c\u00e1lculo cient\u00edfico. Sin embargo Python es capaz por si mismo de realizar operaciones matem\u00e1ticas b\u00e1sicas."
     ]
    },
    {
     "cell_type": "markdown",
     "metadata": {},
     "source": [
      "###<div class=\"alert alert-warning\">Realiza las siguientes operaciones con n\u00fameros enteros:</div>\n",
      "\n",
      "\n",
      "* $5+8$\n",
      "\n",
      "\n",
      "* $7-9$\n",
      "\n",
      "\n",
      "* $56 \\times 45$"
     ]
    },
    {
     "cell_type": "markdown",
     "metadata": {},
     "source": [
      "El operador de potencia en Python es el **doble asterisco**, a diferencia de muchos otros lenguajes y programas de ordenador, donde dicho operador es el circunflejo.\n",
      "\n",
      "Python trabaja con **aritm\u00e9tica exacta en los n\u00fameros enteros**. No hay l\u00edmite al tama\u00f1o de los enteros empleados. Las \u00fanicas limitaciones ser\u00e1n las de la m\u00e1quina que est\u00e9 ejecutando el programa."
     ]
    },
    {
     "cell_type": "markdown",
     "metadata": {},
     "source": [
      "###<div class=\"alert alert-warning\">Calcula las siguientes potencias:</div>\n",
      "\n",
      "\n",
      "* $2^3$\n",
      "\n",
      "\n",
      "* $(-2)^6$\n",
      "\n",
      "\n",
      "* $-2^8$\n",
      "\n",
      "\n",
      "* $2^{250}$\n"
     ]
    },
    {
     "cell_type": "markdown",
     "metadata": {},
     "source": [
      "**En las operaciones combinadas Python sigue el prioridad estandar de las matem\u00e1ticas**: primero realiza los par\u00e9ntesis, despu\u00e9s las potencias, posteriormente las multiplicaciones y divisiones y finalmente las sumas y las restas."
     ]
    },
    {
     "cell_type": "markdown",
     "metadata": {},
     "source": [
      "###<div class=\"alert alert-warning\">Realiza las siguientes operaciones combinadas:</div>\n",
      "\n",
      "\n",
      "* $(4+2) \\times 3$\n",
      "\n",
      "\n",
      "* $(3+7-6)\\times (7-5)$\n",
      "\n",
      "\n",
      "* $(3+8)^2-78^2$"
     ]
    },
    {
     "cell_type": "markdown",
     "metadata": {},
     "source": [
      "**El separador de decimales es el punto**. Para introducir n\u00fameros en notaci\u00f3n cient\u00edfica separamos con una letra \"e\" la parte decimal y la parte de la potencia de 10."
     ]
    },
    {
     "cell_type": "markdown",
     "metadata": {},
     "source": [
      "###<div class=\"alert alert-warning\">Realiza las siguientes operaciones con n\u00fameros decimales.</div>\n",
      "\n",
      "\n",
      "* $3.56 + 7.9$\n",
      "\n",
      "\n",
      "* $3.56e3 \\times 78.9$\n",
      "\n",
      "\n",
      "* $ 1.5^5 -98.1$"
     ]
    },
    {
     "cell_type": "markdown",
     "metadata": {},
     "source": [
      "**Python es capaz de calcular potencias de exponente negativo y fraccionario**. Por lo tanto es capaz de calcular todo tipo de ra\u00edces. Para ello debemos tener en cuenta la identidad:  $\\sqrt[n]{x} = x^\\frac{1}{n}$. Posteriormente veremos otras formas de calcular ra\u00edces.\n",
      "\n",
      "**Python no trabaja con aritm\u00e9tica exacta en los n\u00fameros decimales** y por lo tanto se pueden producir errores matem\u00e1ticos que es preciso tener en cuenta."
     ]
    },
    {
     "cell_type": "markdown",
     "metadata": {},
     "source": [
      "###<div class=\"alert alert-warning\">Calcula las siguientes potencias y ra\u00edces:</div>\n",
      "\n",
      "\n",
      "* $2^{-3}$\n",
      "\n",
      "\n",
      "* $\\sqrt{2}$\n",
      "\n",
      "\n",
      "* $\\sqrt[5]{2}$\n",
      "\n",
      "\n",
      "* $\\left(\\sqrt[5]{2}\\right)^5$"
     ]
    },
    {
     "cell_type": "markdown",
     "metadata": {},
     "source": [
      "La divisi\u00f3n en Python 3 se comporta del modo esperado: al realizar la divisi\u00f3n de cualquier pareja de n\u00fameros nos el resultado con sus decimales. **Debemos tener cuidado pues en Python 2 esto no es cierto.**"
     ]
    },
    {
     "cell_type": "markdown",
     "metadata": {},
     "source": [
      "###<div class=\"alert alert-warning\">Realiza la siguientes divisiones:</div>\n",
      "\n",
      "\n",
      "* $3/2$\n",
      "\n",
      "\n",
      "* $6/31$\n",
      "\n",
      "\n",
      "* $56.78/23$"
     ]
    },
    {
     "cell_type": "markdown",
     "metadata": {},
     "source": [
      "Adem\u00e1s de los operadores asociados a las cuatro operaciones y a las potencias, Python tiene otros dos operadores interesantes: uno es la **divisi\u00f3n entera o euclidea** (//) y otro el **operador m\u00f3dulo o resto** (%). Tambi\u00e9n se puede utilizar la funci\u00f3n **divmod** para obtener ambos resultados."
     ]
    },
    {
     "cell_type": "markdown",
     "metadata": {},
     "source": [
      "###<div class=\"alert alert-warning\">Realiza las siguientes divisiones enteras:</div>\n",
      "\n",
      "\n",
      "* $7 / 4$\n",
      "\n",
      "\n",
      "* $89 /33$\n",
      "\n",
      "\n",
      "* $(-5) / 4$"
     ]
    }
   ],
   "metadata": {}
  }
 ]
}
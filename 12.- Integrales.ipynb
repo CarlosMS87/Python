{
 "metadata": {
  "name": "",
  "signature": "sha256:ca849dcc780495c5bce3ed84637afd3e5416bda6e0c7dc0bbc3185dfce47a3cd"
 },
 "nbformat": 3,
 "nbformat_minor": 0,
 "worksheets": [
  {
   "cells": [
    {
     "cell_type": "markdown",
     "metadata": {},
     "source": [
      "#<div class=\"alert alert-success\">Integrales</div>"
     ]
    },
    {
     "cell_type": "code",
     "collapsed": false,
     "input": [
      "from sympy import *\n",
      "init_printing()\n",
      "x, y, z = symbols('x, y, z')"
     ],
     "language": "python",
     "metadata": {},
     "outputs": [],
     "prompt_number": 2
    },
    {
     "cell_type": "markdown",
     "metadata": {},
     "source": [
      "Sympy puede calcular tanto integrales definidas como indefinidas en modo exacto. Para ello se utiliza el comando **integrate**. Si escribimos **Integral** (con may\u00fasculas) no efect\u00faa la integral. Para realizarla debemos a\u00f1adir el m\u00e9todo **doit**.\n",
      "\n",
      "Para calcular la primitiva, solamente tenemos que escribir la funci\u00f3n. Como segundo par\u00e1metro podemos poner la letra sobre la que se efect\u00faa la integral, pero no es necesario."
     ]
    },
    {
     "cell_type": "markdown",
     "metadata": {},
     "source": [
      "###<div class=\"alert alert-warning\">Calcula las siguientes integrales indefinidas, derivando para comprobar alg\u00fan resultado:</div>\n",
      "\n",
      "\n",
      "* $\\displaystyle \\int x^5$\n",
      "\n",
      "\n",
      "* $\\displaystyle \\int 4y^3-5y$\n",
      "\n",
      "\n",
      "* $ \\displaystyle \\int x\\cos(x)$"
     ]
    },
    {
     "cell_type": "code",
     "collapsed": false,
     "input": [],
     "language": "python",
     "metadata": {},
     "outputs": [],
     "prompt_number": 31
    },
    {
     "cell_type": "code",
     "collapsed": false,
     "input": [],
     "language": "python",
     "metadata": {},
     "outputs": []
    },
    {
     "cell_type": "markdown",
     "metadata": {},
     "source": [
      "Para calcular las integrales indefinidas le debemos facilitar el l\u00edmite inferior y superior. Para ello, como segundo argumento, debemos escribir lo que Python denomina un tupla. Entre par\u00e9ntesis escibimos la variable, el l\u00edmite inferior y el superior."
     ]
    },
    {
     "cell_type": "markdown",
     "metadata": {},
     "source": [
      "###<div class=\"alert alert-warning\">Calcula las integrales definidas:</div>\n",
      "\n",
      "\n",
      "* $\\displaystyle \\int_0^4 4x^3-4x$\n",
      "\n",
      "\n",
      "* $\\displaystyle \\int_0^{\\pi/2} \\cos(x)$"
     ]
    },
    {
     "cell_type": "markdown",
     "metadata": {},
     "source": [
      "Sympy tambi\u00e9n pueda calcular integrales impropias (por ejemplo con l\u00edmite igual a infinito). Si la integral no converge nos informa de ello en la soluci\u00f3n. \n"
     ]
    },
    {
     "cell_type": "markdown",
     "metadata": {},
     "source": [
      "###<div class=\"alert alert-warning\">Calcula las integrales impropias:</div>\n",
      "\n",
      "\n",
      "* $\\displaystyle \\int_1^\\infty \\frac{1}{x}$\n",
      "\n",
      "\n",
      "* $\\displaystyle \\int_2^\\infty \\frac{1}{x^2}$"
     ]
    },
    {
     "cell_type": "code",
     "collapsed": false,
     "input": [],
     "language": "python",
     "metadata": {},
     "outputs": [],
     "prompt_number": 31
    },
    {
     "cell_type": "code",
     "collapsed": false,
     "input": [],
     "language": "python",
     "metadata": {},
     "outputs": []
    },
    {
     "cell_type": "markdown",
     "metadata": {},
     "source": [
      "Las integrales de fracciones algebraicas se pueden realizar descomponiendo en fracciones simples e integrando cada t\u00e9rmino. La funci\u00f3n para descomponer en fracciones simples es **apart**."
     ]
    },
    {
     "cell_type": "markdown",
     "metadata": {},
     "source": [
      "###<div class=\"alert alert-warning\">Calcula la integral de la fracci\u00f3n algebraica. Descomp\u00f3n en fracciones simples e integra:</div>\n",
      "\n",
      "\n",
      "$$\\int \\frac{5x+3}{x^2+2x-3}$$"
     ]
    },
    {
     "cell_type": "code",
     "collapsed": false,
     "input": [],
     "language": "python",
     "metadata": {},
     "outputs": [],
     "prompt_number": 31
    },
    {
     "cell_type": "code",
     "collapsed": false,
     "input": [],
     "language": "python",
     "metadata": {},
     "outputs": [],
     "prompt_number": 31
    },
    {
     "cell_type": "markdown",
     "metadata": {},
     "source": [
      "Cuando hay muchas letras, o sea cuando tenemos una integral dependiente de par\u00e1metros, debemos especificar sin falta la variable sobre la que queremos integrar como segundo argumento."
     ]
    },
    {
     "cell_type": "markdown",
     "metadata": {},
     "source": [
      "###<div class=\"alert alert-warning\">Calcula la integral:</div>\n",
      "\n",
      "\n",
      "$$\\int A \\cdot \\cos(wt) dt$$"
     ]
    },
    {
     "cell_type": "code",
     "collapsed": false,
     "input": [],
     "language": "python",
     "metadata": {},
     "outputs": [],
     "prompt_number": 31
    },
    {
     "cell_type": "code",
     "collapsed": false,
     "input": [],
     "language": "python",
     "metadata": {},
     "outputs": [],
     "prompt_number": 31
    },
    {
     "cell_type": "markdown",
     "metadata": {},
     "source": [
      "###<div class=\"alert alert-warning\">Calcula la integral de la campana de Gauss:</div>\n",
      "\n",
      "\n",
      "$$\\int \\exp(-x^2)$$"
     ]
    },
    {
     "cell_type": "code",
     "collapsed": false,
     "input": [],
     "language": "python",
     "metadata": {},
     "outputs": [],
     "prompt_number": 31
    },
    {
     "cell_type": "code",
     "collapsed": false,
     "input": [],
     "language": "python",
     "metadata": {},
     "outputs": [],
     "prompt_number": 70
    },
    {
     "cell_type": "code",
     "collapsed": false,
     "input": [],
     "language": "python",
     "metadata": {},
     "outputs": [],
     "prompt_number": 71
    }
   ],
   "metadata": {}
  }
 ]
}
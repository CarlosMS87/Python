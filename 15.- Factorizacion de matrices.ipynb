{
 "metadata": {
  "name": "",
  "signature": "sha256:61a66a99bf76e9a135306f03d4fdde3f44ab9c11a09a1ee31c4247d1ed965de4"
 },
 "nbformat": 3,
 "nbformat_minor": 0,
 "worksheets": [
  {
   "cells": [
    {
     "cell_type": "code",
     "collapsed": false,
     "input": [
      "from sympy import *\n",
      "init_printing(use_latex='mathjax')\n",
      "x, y, z = symbols('x, y, z')"
     ],
     "language": "python",
     "metadata": {},
     "outputs": [],
     "prompt_number": 2
    },
    {
     "cell_type": "markdown",
     "metadata": {},
     "source": [
      "Para muchos c\u00e1lculos que se realizan con matrices, es m\u00e1s \u00fatil tener la matriz expresada como un **producto de matrices**. Naturalmente para que esto sea \u00fatil, estas nuevas matrices tienen que ser de tipos m\u00e1s sencillos que la original."
     ]
    },
    {
     "cell_type": "markdown",
     "metadata": {},
     "source": [
      "Dada una matriz cuadrada, se puede interpretar como una **aplicaci\u00f3n lineal de un espacio vectorial en si mismo**. La matriz est\u00e1 escrita con respecto a una base, pero podemos utilizar otra base y entonces la forma de la matriz cambia, a pesar de que la aplicaci\u00f3n lineal es la misma. Lo m\u00e1s sencillo ser\u00eda que que todo endomorfismo se pudiera escribir en una base como una matriz diagonal. Desgraciadamente no siempre es posible, incluso aunque el cuerpo sobre el que trabajemos sea algebraicamente cerrado. En principio trabajamos sobre cuerpo real o el cuerpo complejo.\n",
      "\n",
      "Para saber si una matriz es diagonalizable tenemos el m\u00e9todo **is_diagonalizable**. Una vez que sabemos que es diagonalizable utilizamos **charpoly** para calcular el polinomio caracter\u00edstico. Las ra\u00edces de este polinomio son los valores propios, que podemos conocer con **eigenvals**. Los vectores propios asociados se obtienen con **eigenvects**. El m\u00e9todo m\u00e1s general es **diagonalize**, que nos devuelve la matriz diagonal y adem\u00e1s la matriz de cambio de base, esto es, la matriz $P$ tal que:\n",
      "$$\n",
      "P^{-1}\\cdot A \\cdot P = D\n",
      "$$\n",
      "siendo $A$ la matriz de partida, $P$ la matriz de cambio de base y $D$ la matriz diagonal."
     ]
    },
    {
     "cell_type": "markdown",
     "metadata": {},
     "source": [
      "###<div class=\"alert alert-warning\">Diagonaliza la matriz:</div>\n",
      "\n",
      "$$A=\n",
      "\\begin{pmatrix}\n",
      "1 & 0 &2\\\\\n",
      "3& 3&-3\\\\\n",
      "1&0&2\n",
      "\\end{pmatrix}\n",
      "$$"
     ]
    },
    {
     "cell_type": "code",
     "collapsed": false,
     "input": [],
     "language": "python",
     "metadata": {},
     "outputs": [],
     "prompt_number": 33
    },
    {
     "cell_type": "code",
     "collapsed": false,
     "input": [],
     "language": "python",
     "metadata": {},
     "outputs": [],
     "prompt_number": 33
    },
    {
     "cell_type": "markdown",
     "metadata": {},
     "source": [
      "Dada una matriz sim\u00e9trica $A$ se puede interpretar como un producto escalar en un espacio vectorial, multiplicando los vectores por ambos lados. La matriz dada es la matriz de la m\u00e9trica (o forma cuadr\u00e1tica) en  una base. Sin embargo siempre existe una base donde la forma cuadr\u00e1tica se reduce a suma de cuadrados (forma diagonal). Si $A$ es la matriz de partida, la matriz de cambio de base es $L$ y la matriz diagonal $D$, entonces:\n",
      "$$\n",
      "A= L\\cdot D\\cdot L^t\n",
      "$$\n",
      "Tanto la matriz $L$ como la $D$ se obtienen con el m\u00e9todo **LDLdecomposition**."
     ]
    },
    {
     "cell_type": "markdown",
     "metadata": {},
     "source": [
      "###<div class=\"alert alert-warning\">Diagonaliza la forma cuadr\u00e1tica asociada a la matriz:</div>\n",
      "\n",
      "$$B=\n",
      "\\begin{pmatrix}\n",
      "25 & 15 &-5\\\\\n",
      "15& 18&0\\\\\n",
      "-5&0&11\n",
      "\\end{pmatrix}\n",
      "$$\n"
     ]
    },
    {
     "cell_type": "code",
     "collapsed": false,
     "input": [],
     "language": "python",
     "metadata": {},
     "outputs": [],
     "prompt_number": 35
    },
    {
     "cell_type": "code",
     "collapsed": false,
     "input": [],
     "language": "python",
     "metadata": {},
     "outputs": [],
     "prompt_number": 37
    },
    {
     "cell_type": "markdown",
     "metadata": {},
     "source": [
      "La descomposici\u00f3n LU de una matriz consiste es escribir la matriz $A$ como un producto $LU$ donde $L$ es una matriz triangular inferior (con la diagonal llena de unos) y $U$ una superior. No siempre es posible hallar esta factorizaci\u00f3n, pero permutando adecuadamente las filas, si es posible. El m\u00e9todo **LUdecomposition** devuelve tanto $L$ como $U$, como un vector que indica la permutaci\u00f3n de filas que es necesario realizar para poder realizar la factorizaci\u00f3n. Si la lista es vac\u00eda, no se necesitan cambios de filas."
     ]
    },
    {
     "cell_type": "markdown",
     "metadata": {},
     "source": [
      "###<div class=\"alert alert-warning\">Realiza la descomposici\u00f3n LU de la matriz $B$.</div>"
     ]
    },
    {
     "cell_type": "code",
     "collapsed": false,
     "input": [
      "L, U, P=A.LUdecomposition()"
     ],
     "language": "python",
     "metadata": {},
     "outputs": [],
     "prompt_number": 44
    },
    {
     "cell_type": "code",
     "collapsed": false,
     "input": [
      "L*U, A"
     ],
     "language": "python",
     "metadata": {},
     "outputs": [
      {
       "latex": [
        "$$\\begin{pmatrix}\\left[\\begin{matrix}25 & 15 & -5\\\\15 & 18 & 0\\\\-5 & 0 & 11\\end{matrix}\\right], & \\left[\\begin{matrix}25 & 15 & -5\\\\15 & 18 & 0\\\\-5 & 0 & 11\\end{matrix}\\right]\\end{pmatrix}$$"
       ],
       "metadata": {},
       "output_type": "pyout",
       "prompt_number": 46,
       "text": [
        "\u239b\u23a125  15  -5\u23a4, \u23a125  15  -5\u23a4\u239e\n",
        "\u239c\u23a2          \u23a5  \u23a2          \u23a5\u239f\n",
        "\u239c\u23a215  18  0 \u23a5  \u23a215  18  0 \u23a5\u239f\n",
        "\u239c\u23a2          \u23a5  \u23a2          \u23a5\u239f\n",
        "\u239d\u23a3-5  0   11\u23a6  \u23a3-5  0   11\u23a6\u23a0"
       ]
      }
     ],
     "prompt_number": 46
    },
    {
     "cell_type": "markdown",
     "metadata": {},
     "source": [
      "La descomposici\u00f3n QR de una matriz $A$ consiste en encontrar dos matrices $Q$ y $R$, tales que:\n",
      "\n",
      "\n",
      "* $A=Q\\cdot R$ \n",
      "\n",
      "\n",
      "* $Q$ es una matriz ortogonal ($Q\\cdot Q^t=\\mathrm{Id})$\n",
      "\n",
      "\n",
      "* $R$ es triangular superior.\n"
     ]
    },
    {
     "cell_type": "markdown",
     "metadata": {},
     "source": [
      "###<div class=\"alert alert-warning\">Realiza la descomposici\u00f3n QR de la matriz $B$.</div>"
     ]
    },
    {
     "cell_type": "code",
     "collapsed": false,
     "input": [
      "A"
     ],
     "language": "python",
     "metadata": {},
     "outputs": [
      {
       "latex": [
        "$$\\left[\\begin{matrix}25 & 15 & -5\\\\15 & 18 & 0\\\\-5 & 0 & 11\\end{matrix}\\right]$$"
       ],
       "metadata": {},
       "output_type": "pyout",
       "prompt_number": 47,
       "text": [
        "\u23a125  15  -5\u23a4\n",
        "\u23a2          \u23a5\n",
        "\u23a215  18  0 \u23a5\n",
        "\u23a2          \u23a5\n",
        "\u23a3-5  0   11\u23a6"
       ]
      }
     ],
     "prompt_number": 47
    },
    {
     "cell_type": "code",
     "collapsed": false,
     "input": [
      "Q, R =A.QRdecomposition()"
     ],
     "language": "python",
     "metadata": {},
     "outputs": [],
     "prompt_number": 49
    },
    {
     "cell_type": "code",
     "collapsed": false,
     "input": [
      "Q*Q.T"
     ],
     "language": "python",
     "metadata": {},
     "outputs": [
      {
       "latex": [
        "$$\\left[\\begin{matrix}1 & 0 & 0\\\\0 & 1 & 0\\\\0 & 0 & 1\\end{matrix}\\right]$$"
       ],
       "metadata": {},
       "output_type": "pyout",
       "prompt_number": 52,
       "text": [
        "\u23a11  0  0\u23a4\n",
        "\u23a2       \u23a5\n",
        "\u23a20  1  0\u23a5\n",
        "\u23a2       \u23a5\n",
        "\u23a30  0  1\u23a6"
       ]
      }
     ],
     "prompt_number": 52
    },
    {
     "cell_type": "code",
     "collapsed": false,
     "input": [
      "Q*R, A"
     ],
     "language": "python",
     "metadata": {},
     "outputs": [
      {
       "latex": [
        "$$\\begin{pmatrix}\\left[\\begin{matrix}25 & 15 & -5\\\\15 & 18 & 0\\\\-5 & 0 & 11\\end{matrix}\\right], & \\left[\\begin{matrix}25 & 15 & -5\\\\15 & 18 & 0\\\\-5 & 0 & 11\\end{matrix}\\right]\\end{pmatrix}$$"
       ],
       "metadata": {},
       "output_type": "pyout",
       "prompt_number": 53,
       "text": [
        "\u239b\u23a125  15  -5\u23a4, \u23a125  15  -5\u23a4\u239e\n",
        "\u239c\u23a2          \u23a5  \u23a2          \u23a5\u239f\n",
        "\u239c\u23a215  18  0 \u23a5  \u23a215  18  0 \u23a5\u239f\n",
        "\u239c\u23a2          \u23a5  \u23a2          \u23a5\u239f\n",
        "\u239d\u23a3-5  0   11\u23a6  \u23a3-5  0   11\u23a6\u23a0"
       ]
      }
     ],
     "prompt_number": 53
    },
    {
     "cell_type": "markdown",
     "metadata": {},
     "source": [
      "Dada una matriz sim\u00e9trica y definida positiva, es conocido que se puede encontrar una base ortonormal, donde la matriz se reduce a la identidad. Si $L$ es la matriz de cambio de base, la descomposici\u00f3n LDL se  reduce a la expresi\u00f3n:\n",
      "$$\n",
      "L\\cdot \\mathrm{Id}\\cdot  L^t= L\\cdot L^t=A\n",
      "$$\n",
      "Esta es la conocida como descomposi\u00f3n de Cholesky, que se puede obtener con el m\u00e9todo **cholesky**."
     ]
    },
    {
     "cell_type": "markdown",
     "metadata": {},
     "source": [
      "###<div class=\"alert alert-warning\">Realiza la descomposico\u00f3n de Cholesky de la matriz $B$.</div>"
     ]
    },
    {
     "cell_type": "code",
     "collapsed": false,
     "input": [
      "A.LDLdecomposition()"
     ],
     "language": "python",
     "metadata": {},
     "outputs": [
      {
       "latex": [
        "$$\\begin{pmatrix}\\left[\\begin{matrix}1 & 0 & 0\\\\\\frac{3}{5} & 1 & 0\\\\- \\frac{1}{5} & \\frac{1}{3} & 1\\end{matrix}\\right], & \\left[\\begin{matrix}25 & 0 & 0\\\\0 & 9 & 0\\\\0 & 0 & 9\\end{matrix}\\right]\\end{pmatrix}$$"
       ],
       "metadata": {},
       "output_type": "pyout",
       "prompt_number": 57,
       "text": [
        "\u239b\u23a1 1     0   0\u23a4, \u23a125  0  0\u23a4\u239e\n",
        "\u239c\u23a2            \u23a5  \u23a2        \u23a5\u239f\n",
        "\u239c\u23a23/5    1   0\u23a5  \u23a20   9  0\u23a5\u239f\n",
        "\u239c\u23a2            \u23a5  \u23a2        \u23a5\u239f\n",
        "\u239d\u23a3-1/5  1/3  1\u23a6  \u23a30   0  9\u23a6\u23a0"
       ]
      }
     ],
     "prompt_number": 57
    },
    {
     "cell_type": "code",
     "collapsed": false,
     "input": [
      "L*L.T, A"
     ],
     "language": "python",
     "metadata": {},
     "outputs": [
      {
       "latex": [
        "$$\\begin{pmatrix}\\left[\\begin{matrix}25 & 15 & -5\\\\15 & 18 & 0\\\\-5 & 0 & 11\\end{matrix}\\right], & \\left[\\begin{matrix}25 & 15 & -5\\\\15 & 18 & 0\\\\-5 & 0 & 11\\end{matrix}\\right]\\end{pmatrix}$$"
       ],
       "metadata": {},
       "output_type": "pyout",
       "prompt_number": 56,
       "text": [
        "\u239b\u23a125  15  -5\u23a4, \u23a125  15  -5\u23a4\u239e\n",
        "\u239c\u23a2          \u23a5  \u23a2          \u23a5\u239f\n",
        "\u239c\u23a215  18  0 \u23a5  \u23a215  18  0 \u23a5\u239f\n",
        "\u239c\u23a2          \u23a5  \u23a2          \u23a5\u239f\n",
        "\u239d\u23a3-5  0   11\u23a6  \u23a3-5  0   11\u23a6\u23a0"
       ]
      }
     ],
     "prompt_number": 56
    },
    {
     "cell_type": "code",
     "collapsed": false,
     "input": [],
     "language": "python",
     "metadata": {},
     "outputs": []
    }
   ],
   "metadata": {}
  }
 ]
}
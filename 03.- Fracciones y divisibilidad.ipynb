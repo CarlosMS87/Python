{
 "metadata": {
  "name": "",
  "signature": "sha256:40c47733adf4565e3536f4e91bea854b041dc445e270409060f6ef1f171eb7f7"
 },
 "nbformat": 3,
 "nbformat_minor": 0,
 "worksheets": [
  {
   "cells": [
    {
     "cell_type": "markdown",
     "metadata": {},
     "source": [
      "#<div class=\"alert alert-success\">Fracciones y divisibilidad.</div>"
     ]
    },
    {
     "cell_type": "markdown",
     "metadata": {},
     "source": [
      "Para realizar la mayor parte de los c\u00e1lculos matem\u00e1ticos de modo exacto utilizaremos la biblioteca **SYMPY**, que no viene de serie con Python, aunque si viene incluida en las distribuciones de Python para c\u00e1lculo cient\u00edfico. Para ello se debe importar la biblioteca, y en general lo haremos con la sentencia **from sympy import ***.\n",
      "\n",
      "Adem\u00e1s presentaremos los resultados en formato $\\LaTeX$. Para ello utilizamos la funci\u00f3n **init_printing** (escribimos \"init\" y pulsamos el tabulador). Estas dos expresiones deben aparecer siempre al comienzo del notebook."
     ]
    },
    {
     "cell_type": "markdown",
     "metadata": {},
     "source": [
      "Para escribir fracciones utilizaremos la funci\u00f3n **Rational** (es imprescindible escribir la primera letra con may\u00fasculas). Con las fracciones se pueden realizar todas las operaciones habituales y los resultados se presentan tambi\u00e9n en forma de fracci\u00f3n y no en formato decimal. Pero si en la operaci\u00f3n introducimos un n\u00famero decimal, la operaci\u00f3n la realiza ya en decimales."
     ]
    },
    {
     "cell_type": "markdown",
     "metadata": {},
     "source": [
      "###<div class=\"alert alert-warning\">Realiza las siguientes operaciones con fracciones.</div>\n",
      "\n",
      "\n",
      "* Simplifica la fracci\u00f3n $\\displaystyle \\frac{46}{50}$\n",
      "\n",
      "\n",
      "* $\\displaystyle \\frac{2}{3} +\\frac{6}{7} + 1$\n",
      "\n",
      "\n",
      "* $\\displaystyle \\frac{2}{5} \\times \\frac{7}{6}$\n",
      "\n",
      "\n",
      "* $\\displaystyle \\frac{3}{4} + 1.0$\n",
      "\n",
      "\n",
      "* Calcula $\\displaystyle \\left(\\frac{2}{3}\\right)^{100}$ y da el resultado en decimales."
     ]
    },
    {
     "cell_type": "markdown",
     "metadata": {},
     "source": [
      "Sympy puede factorizar n\u00fameros enteros de tama\u00f1o razonable con la funci\u00f3n **factorint**. El resultado es lo que en Python se denomina un diccionario, donde aparecen el factor primo y el exponente separador por dos puntos. Si queremos que aparezca en el formato estandar, debemos a\u00f1adir **visual = True**."
     ]
    },
    {
     "cell_type": "markdown",
     "metadata": {},
     "source": [
      "###<div class=\"alert alert-warning\">Factoriza los n\u00fameros 612 y 5292 y comprueba el resultado.</div>"
     ]
    },
    {
     "cell_type": "markdown",
     "metadata": {},
     "source": [
      "Las funciones para calcular el m\u00e1ximo com\u00fan denominador y el m\u00ednimo com\u00fan m\u00faltiplo son **gcd** y **lcm**, que son las iniciales inglesas que corresponden a nuestros **mcd** y **mcm**."
     ]
    },
    {
     "cell_type": "markdown",
     "metadata": {},
     "source": [
      "###<div class=\"alert alert-warning\">Calcula el mcd y el mcm de los n\u00fameros anteriores.</div>"
     ]
    },
    {
     "cell_type": "markdown",
     "metadata": {},
     "source": [
      "Para comprobar si un n\u00famero es primo se utiliza la funci\u00f3n **isprime**. Para n\u00fameros \"peque\u00f1os\" utiliza algoritmos exactos para su comprobaci\u00f3n, pero para n\u00fameros grandes utiliza m\u00e9todos probabil\u00edsticos. Parece que  esta funci\u00f3n no es necesaria, pues con la factorizaci\u00f3n se puede saber si un n\u00famero es primo o no lo es. Sin embargo los m\u00e9todos de factorizaci\u00f3n son muy costosos computacionalmente y los test de primalidad no lo son tanto."
     ]
    },
    {
     "cell_type": "markdown",
     "metadata": {},
     "source": [
      "###<div class=\"alert alert-warning\">Comprueba si $5673$ es primo. Lo mismo con $2^{32}+ 1$. Factor\u00edzalos.</div>"
     ]
    },
    {
     "cell_type": "markdown",
     "metadata": {},
     "source": [
      "Para trabajar con divisores Sympy tiene dos funciones: **divisors**, que devuelve una lista con todos los divisores, y **divisor_count**, que \u00fanicamente cuenta el n\u00famero de divisores."
     ]
    },
    {
     "cell_type": "markdown",
     "metadata": {},
     "source": [
      "###<div class=\"alert alert-warning\">Calcula todos los divisores de 180.</div>"
     ]
    },
    {
     "cell_type": "markdown",
     "metadata": {},
     "source": [
      "La funci\u00f3n **sum** suma todos los elementos de una lista."
     ]
    },
    {
     "cell_type": "markdown",
     "metadata": {},
     "source": [
      "###<div class=\"alert alert-warning\">Demuestra que 496 es un n\u00famero perfecto.</div>"
     ]
    },
    {
     "cell_type": "markdown",
     "metadata": {},
     "source": [
      "Para calcular el primo anterior y el primo siguiente se utilizan las funciones **nextprime** y **prevprime**. Para calcular el n\u00famero de primos menores que una cantidad dada se utiliza **primepi**."
     ]
    },
    {
     "cell_type": "markdown",
     "metadata": {},
     "source": [
      "###<div class=\"alert alert-warning\">Calcula el primo anterior y posterior a 1000.</div>"
     ]
    },
    {
     "cell_type": "markdown",
     "metadata": {},
     "source": [
      "###<div class=\"alert alert-warning\">Calcula $\\pi(1000)$ (la cantidad de n\u00fameros primos menores que 1000).</div>"
     ]
    },
    {
     "cell_type": "markdown",
     "metadata": {},
     "source": [
      "Para calcular con decimales cualquier expresi\u00f3n se utiliza el m\u00e9todo **evalf**. Para utilizar un m\u00e9todo, primero debemos escribir la expresi\u00f3n, despu\u00e9s un punto y finalmente el nombre del m\u00e9todo. Muchas veces lo m\u00e1s c\u00f3modo es guardar la expresi\u00f3n en una variable y emplear el m\u00e9todo sobre dicha variable. En este caso el m\u00e9todo **evalf** tiene un argumento opcional, que es el n\u00famero de cifras significativas.\n",
      "\n",
      "Una de las \"funciones m\u00e1gicas\" de Ipython es **%%time**, que nos permite calcular el tiempo de c\u00f3mputo de la celda en cuesti\u00f3n. Esto es una funci\u00f3n propia de IPython, no disponible en Python."
     ]
    },
    {
     "cell_type": "markdown",
     "metadata": {},
     "source": [
      "###<div class=\"alert alert-warning\">Calcula el n\u00famero $\\pi$ y $\\sqrt{2}$ con 50 cifras significativas. Calcula algunos tiempos de c\u00f3mputo.</div>"
     ]
    }
   ],
   "metadata": {}
  }
 ]
}
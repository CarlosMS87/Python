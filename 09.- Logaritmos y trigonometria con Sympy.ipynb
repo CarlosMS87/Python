{
 "metadata": {
  "name": "",
  "signature": "sha256:054297575e8731d4277e2e91ef0665a8710759f612ecbb7791240026f00ceaa2"
 },
 "nbformat": 3,
 "nbformat_minor": 0,
 "worksheets": [
  {
   "cells": [
    {
     "cell_type": "markdown",
     "metadata": {},
     "source": [
      "#<div class=\"alert alert-success\">Logaritmos y trigonometr\u00eda con Sympy.</div>"
     ]
    },
    {
     "cell_type": "code",
     "collapsed": false,
     "input": [
      "from sympy import *\n",
      "init_printing()\n",
      "x, y, z = symbols('x, y, z')"
     ],
     "language": "python",
     "metadata": {},
     "outputs": [],
     "prompt_number": 15
    },
    {
     "cell_type": "markdown",
     "metadata": {},
     "source": [
      "En otro *notebook* hemos trabajado con las funciones logar\u00edtmicas y trigonom\u00e9tricas en modo aproximado. Ahora vamos a trabajar en modo exacto. En particular Sympy es capaz de manejar las propiedades de las funciones."
     ]
    },
    {
     "cell_type": "markdown",
     "metadata": {},
     "source": [
      "Las propiedades fundamentales de los logaritmos sirven para desarrollar expresiones donde aparecen logaritmos. La funci\u00f3n principal para desarrollar logaritmos es **expand_log**. A veces, para poder utilizar toda la potencia de esta funci\u00f3n debemos a\u00f1adir un argumento opcional: **force = True**. Otra manera de hacer esto es utilizar el comando **expand** y utilizar el argumento opcional **log = True**."
     ]
    },
    {
     "cell_type": "markdown",
     "metadata": {},
     "source": [
      "###<div class=\"alert alert-warnig\">Comprueba con Sympy las siguientes propiedades de los logaritmos:</div>\n",
      "\n",
      "\n",
      "* $\\log(x \\cdot y) = \\log(x) + \\log(y)$\n",
      "\n",
      "\n",
      "* $\\log(x^z) = z\\cdot \\log(x)$\n",
      "\n",
      "\n",
      "* $\\displaystyle\\log\\left(\\frac{x}{y}\\right) = \\log(x) -\\log(y)$\n",
      "\n",
      "\n",
      "* $\\displaystyle \\log(\\sqrt{x}) = \\frac{1}{2} \\log(x)$"
     ]
    },
    {
     "cell_type": "code",
     "collapsed": false,
     "input": [],
     "language": "python",
     "metadata": {},
     "outputs": [],
     "prompt_number": 108
    },
    {
     "cell_type": "code",
     "collapsed": false,
     "input": [],
     "language": "python",
     "metadata": {},
     "outputs": [],
     "prompt_number": 72
    },
    {
     "cell_type": "markdown",
     "metadata": {},
     "source": [
      "###<div class=\"alert alert-warnig\">Calcula los siguientes logaritmos:</div>\n",
      "\n",
      "\n",
      "* $\\log_2(1024)$\n",
      "\n",
      "\n",
      "* $\\log_2(\\sqrt{8})$\n",
      "\n",
      "\n",
      "* $\\log_2(\\sqrt[5]{16})$"
     ]
    },
    {
     "cell_type": "code",
     "collapsed": false,
     "input": [],
     "language": "python",
     "metadata": {},
     "outputs": [],
     "prompt_number": 108
    },
    {
     "cell_type": "code",
     "collapsed": false,
     "input": [],
     "language": "python",
     "metadata": {},
     "outputs": [],
     "prompt_number": 108
    },
    {
     "cell_type": "code",
     "collapsed": false,
     "input": [],
     "language": "python",
     "metadata": {},
     "outputs": [],
     "prompt_number": 72
    },
    {
     "cell_type": "markdown",
     "metadata": {},
     "source": [
      "###<div class=\"alert alert-warnig\">Realiza los siguientes c\u00e1lculos trigonom\u00e9tricos:</div>\n",
      "\n",
      "\n",
      "* $\\displaystyle \\cos\\left(\\frac{\\pi}{3}\\right)$\n",
      "\n",
      "\n",
      "* $\\displaystyle \\arcsin\\left(\\frac{1}{2}\\right)$\n",
      "\n",
      "\n",
      "* $\\displaystyle 5\\cos\\left(\\frac{\\pi}{2}\\right) +2\\cos(\\pi) -  \\tan \\left(\\frac{2\\pi}{3}\\right)$"
     ]
    },
    {
     "cell_type": "code",
     "collapsed": false,
     "input": [],
     "language": "python",
     "metadata": {},
     "outputs": [],
     "prompt_number": 108
    },
    {
     "cell_type": "code",
     "collapsed": false,
     "input": [],
     "language": "python",
     "metadata": {},
     "outputs": [],
     "prompt_number": 108
    },
    {
     "cell_type": "markdown",
     "metadata": {},
     "source": [
      "Las funciones **radians** y **deg2rad** convierten grados a radianes, pero en forma aproximada. Si queremos realizar c\u00e1lculos exactos, debemos multiplicar los grados por $\\pi$ y dividir el resultado entre $180$."
     ]
    },
    {
     "cell_type": "markdown",
     "metadata": {},
     "source": [
      "###<div class=\"alert alert-warnig\">Realiza los siguientes c\u00e1lculos trigonom\u00e9tricos:</div>\n",
      "\n",
      "\n",
      "* $\\cos(15^\\mathrm{o})$\n",
      "\n",
      "\n",
      "* $\\cos(30^\\mathrm{o}) -3\\tan(135^\\mathrm{o})$"
     ]
    },
    {
     "cell_type": "code",
     "collapsed": false,
     "input": [],
     "language": "python",
     "metadata": {},
     "outputs": [],
     "prompt_number": 108
    },
    {
     "cell_type": "code",
     "collapsed": false,
     "input": [],
     "language": "python",
     "metadata": {},
     "outputs": [],
     "prompt_number": 108
    },
    {
     "cell_type": "markdown",
     "metadata": {},
     "source": [
      "La funci\u00f3n que sirve para desarrollar expresiones trigonom\u00e9tricas es **expand_trig**. Tambi\u00e9n se puede utilizar **expand** con el argumento opcional **trig = True**."
     ]
    },
    {
     "cell_type": "markdown",
     "metadata": {},
     "source": [
      "###<div class=\"alert alert-warnig\">Comprueba las siguientes propiedades trigonom\u00e9tricas.</div>\n",
      "\n",
      "\n",
      "* $\\sin(x+y)=\\sin(x)\\cos(y)+\\cos(x)\\sin(y)$\n",
      "\n",
      "\n",
      "* $\\cos(x+y) = \\cos(x)\\cos(y)-\\sin(x)\\sin(y)$\n",
      "\n",
      "\n",
      "* $\\tan(x+y) = ?$"
     ]
    },
    {
     "cell_type": "code",
     "collapsed": false,
     "input": [],
     "language": "python",
     "metadata": {},
     "outputs": [],
     "prompt_number": 108
    },
    {
     "cell_type": "code",
     "collapsed": false,
     "input": [],
     "language": "python",
     "metadata": {},
     "outputs": [],
     "prompt_number": 72
    },
    {
     "cell_type": "code",
     "collapsed": false,
     "input": [],
     "language": "python",
     "metadata": {},
     "outputs": [],
     "prompt_number": 72
    },
    {
     "cell_type": "code",
     "collapsed": false,
     "input": [],
     "language": "python",
     "metadata": {},
     "outputs": [],
     "prompt_number": 74
    },
    {
     "cell_type": "code",
     "collapsed": false,
     "input": [],
     "language": "python",
     "metadata": {},
     "outputs": [],
     "prompt_number": 78
    },
    {
     "cell_type": "code",
     "collapsed": false,
     "input": [],
     "language": "python",
     "metadata": {},
     "outputs": []
    }
   ],
   "metadata": {}
  }
 ]
}
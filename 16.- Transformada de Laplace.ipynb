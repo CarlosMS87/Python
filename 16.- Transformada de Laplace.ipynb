{
 "metadata": {
  "name": "",
  "signature": "sha256:3ebaaf6ae5ea705c0d2a795f5c1d3726bdeee7763a740371e370cf295636ea62"
 },
 "nbformat": 3,
 "nbformat_minor": 0,
 "worksheets": [
  {
   "cells": [
    {
     "cell_type": "markdown",
     "metadata": {},
     "source": [
      "#<div class=\"alert alert-success\">Transformada de Laplace</div>"
     ]
    },
    {
     "cell_type": "code",
     "collapsed": false,
     "input": [
      "from sympy import *\n",
      "init_printing(use_latex='mathjax')\n",
      "x, y, z = symbols('x, y, z')"
     ],
     "language": "python",
     "metadata": {},
     "outputs": [],
     "prompt_number": 1
    },
    {
     "cell_type": "markdown",
     "metadata": {},
     "source": [
      "La transformada de Laplace de una funci\u00f3n $f$ definida para valores positivos, se realiza con la integral\n",
      "\n",
      "$$\n",
      "\\mathscr{L}(f(t))=\\int_0^\\infty f(t)\\cdot e^{-st} dt \n",
      "$$\n",
      "\n",
      "Sin embargo esta es un integral impropia y tiene serias limitaciones en las condiciones de convergencia. Lo cierto es que la transformada de Laplace se suele utilizar mec\u00e1nicamente y se suelen obviar estas condiciones de convergencia. "
     ]
    },
    {
     "cell_type": "markdown",
     "metadata": {},
     "source": [
      "###<div class=\"alert alert-warning\">Utilizando la definici\u00f3n, calcula la transformada de Laplace de la funci\u00f3n $\\cos(t)$.</div>"
     ]
    },
    {
     "cell_type": "code",
     "collapsed": false,
     "input": [
      "var('t')\n",
      "var('s', positive = True)\n",
      "Integral(cos(t)*exp(-s*t),(t,0,oo)).doit()"
     ],
     "language": "python",
     "metadata": {},
     "outputs": [
      {
       "latex": [
        "$$\\frac{s}{s^{2} + 1}$$"
       ],
       "metadata": {},
       "output_type": "pyout",
       "prompt_number": 3,
       "text": [
        "  s   \n",
        "\u2500\u2500\u2500\u2500\u2500\u2500\n",
        " 2    \n",
        "s  + 1"
       ]
      }
     ],
     "prompt_number": 3
    },
    {
     "cell_type": "markdown",
     "metadata": {},
     "source": [
      "Para calcular la transformada de Laplace utilizamos **laplace_transform**. Le debemos facilitar tres argumentos: el primero es la funci\u00f3n, el segundo la variable de la funci\u00f3n de partida (en general siempre se llama $t$), y la variable de la funci\u00f3n transformada (en general siempre se llama $s$).\n",
      "\n",
      "Este comando nos devuelve tres resultados. El primero es la transformada de Laplace en si misma. El segundo tiene que ver con el dominio de definici\u00f3n de la funci\u00f3n $F(s)$ y el tercero son condiciones adicionales para asegurar la convergencia de la integral.\n",
      "\n",
      "Como nos suele interesar \u00fanicamente la transformada, debemos acceder al primer elemento de la tupla. Ello se consigue colocando un **[0]**, pues en Python los \u00edndices empiezan en cero."
     ]
    },
    {
     "cell_type": "markdown",
     "metadata": {},
     "source": [
      "###<div class=\"alert alert-warning\">Calcula la transformada de Laplace de las funciones:</div>\n",
      "\n",
      "$$\n",
      "\\mathscr{L}(\\sin(at)) \\qquad  \\mathscr{L}(\\cos(at)) \\qquad \\mathscr{L}(e^{at})\n",
      "$$"
     ]
    },
    {
     "cell_type": "code",
     "collapsed": false,
     "input": [
      "laplace_transform(Heaviside(t),t,s)[0]"
     ],
     "language": "python",
     "metadata": {},
     "outputs": [
      {
       "latex": [
        "$$\\frac{1}{s}$$"
       ],
       "metadata": {},
       "output_type": "pyout",
       "prompt_number": 5,
       "text": [
        "1\n",
        "\u2500\n",
        "s"
       ]
      }
     ],
     "prompt_number": 5
    },
    {
     "cell_type": "markdown",
     "metadata": {},
     "source": [
      "###<div class=\"alert alert-warning\">Calcula la transformada de Laplace de constantes y polinomios.</div>"
     ]
    },
    {
     "cell_type": "code",
     "collapsed": false,
     "input": [
      "laplace_transform(t**7+t**5+4*t**3,t,s)[0]"
     ],
     "language": "python",
     "metadata": {},
     "outputs": [
      {
       "latex": [
        "$$\\frac{1}{s^{8}} \\left(24 s^{4} + 120 s^{2} + 5040\\right)$$"
       ],
       "metadata": {},
       "output_type": "pyout",
       "prompt_number": 55,
       "text": [
        "   \u239b 4      2      \u239e\n",
        "24\u22c5\u239ds  + 5\u22c5s  + 210\u23a0\n",
        "\u2500\u2500\u2500\u2500\u2500\u2500\u2500\u2500\u2500\u2500\u2500\u2500\u2500\u2500\u2500\u2500\u2500\u2500\u2500\u2500\n",
        "          8         \n",
        "         s          "
       ]
      }
     ],
     "prompt_number": 55
    },
    {
     "cell_type": "markdown",
     "metadata": {},
     "source": [
      "###<div class=\"alert alert-warning\">Calcular la transformada de Laplace de la funci\u00f3n $\\delta$ de Dirac y de la funci\u00f3n escal\u00f3n de Heaviside.</div>"
     ]
    },
    {
     "cell_type": "code",
     "collapsed": false,
     "input": [],
     "language": "python",
     "metadata": {},
     "outputs": []
    },
    {
     "cell_type": "markdown",
     "metadata": {},
     "source": [
      "###<div class=\"alert alert-warning\">Calcula la transformada de Laplace:</div>\n",
      "\n",
      "$$\n",
      "\\mathscr{L}\\left(t^3 \\cdot \\exp(-5t)\\cdot \\cos(2t)\\right)\n",
      "$$"
     ]
    },
    {
     "cell_type": "code",
     "collapsed": false,
     "input": [
      "laplace_transform(t**3*exp(-5*t)*cos(2*t),t,s)[0]"
     ],
     "language": "python",
     "metadata": {},
     "outputs": [
      {
       "ename": "NameError",
       "evalue": "name 'laplace_transform' is not defined",
       "output_type": "pyerr",
       "traceback": [
        "\u001b[1;31m---------------------------------------------------------------------------\u001b[0m\n\u001b[1;31mNameError\u001b[0m                                 Traceback (most recent call last)",
        "\u001b[1;32m<ipython-input-1-f3e3c3ab4d64>\u001b[0m in \u001b[0;36m<module>\u001b[1;34m()\u001b[0m\n\u001b[1;32m----> 1\u001b[1;33m \u001b[0mlaplace_transform\u001b[0m\u001b[1;33m(\u001b[0m\u001b[0mt\u001b[0m\u001b[1;33m**\u001b[0m\u001b[1;36m3\u001b[0m\u001b[1;33m*\u001b[0m\u001b[0mexp\u001b[0m\u001b[1;33m(\u001b[0m\u001b[1;33m-\u001b[0m\u001b[1;36m5\u001b[0m\u001b[1;33m*\u001b[0m\u001b[0mt\u001b[0m\u001b[1;33m)\u001b[0m\u001b[1;33m*\u001b[0m\u001b[0mcos\u001b[0m\u001b[1;33m(\u001b[0m\u001b[1;36m2\u001b[0m\u001b[1;33m*\u001b[0m\u001b[0mt\u001b[0m\u001b[1;33m)\u001b[0m\u001b[1;33m,\u001b[0m\u001b[0mt\u001b[0m\u001b[1;33m,\u001b[0m\u001b[0ms\u001b[0m\u001b[1;33m)\u001b[0m\u001b[1;33m[\u001b[0m\u001b[1;36m0\u001b[0m\u001b[1;33m]\u001b[0m\u001b[1;33m\u001b[0m\u001b[0m\n\u001b[0m",
        "\u001b[1;31mNameError\u001b[0m: name 'laplace_transform' is not defined"
       ]
      }
     ],
     "prompt_number": 1
    },
    {
     "cell_type": "markdown",
     "metadata": {},
     "source": [
      "###<div class=\"alert alert-warning\">Calcula la transformada del seno. Deriva la funci\u00f3n y calcula la transformada. Multiplica la funci\u00f3n por $e^{5t}$ y vuelve a calcular la transformada.</div>"
     ]
    },
    {
     "cell_type": "code",
     "collapsed": false,
     "input": [],
     "language": "python",
     "metadata": {},
     "outputs": [],
     "prompt_number": 6
    },
    {
     "cell_type": "markdown",
     "metadata": {},
     "source": [
      "La transformada inversa de Laplace se calcula con **inverse_laplace_transform**. Ahora debemos poner primero la $s$ y despu\u00e9s la $t$."
     ]
    },
    {
     "cell_type": "markdown",
     "metadata": {},
     "source": [
      "###<div class=\"alert alert-warning\">Calcula la transformada inversa de Laplace:</div>\n",
      "\n",
      "$$\n",
      "\\mathscr{L}^{-1}\\left(\\frac{1}{(s+1)^2\\cdot(s+2)}\\right)\n",
      "$$"
     ]
    },
    {
     "cell_type": "code",
     "collapsed": false,
     "input": [
      "inverse_laplace_transform(1/((s+1)**2*(s+2)),s,t)"
     ],
     "language": "python",
     "metadata": {},
     "outputs": [
      {
       "latex": [
        "$$\\left(\\left(t - 1\\right) e^{t} + 1\\right) e^{- 2 t} \\theta\\left(t\\right)$$"
       ],
       "metadata": {},
       "output_type": "pyout",
       "prompt_number": 85,
       "text": [
        "\u239b         t    \u239e  -2\u22c5t             \n",
        "\u239d(t - 1)\u22c5\u212f  + 1\u23a0\u22c5\u212f    \u22c5Heaviside(t)"
       ]
      }
     ],
     "prompt_number": 85
    },
    {
     "cell_type": "code",
     "collapsed": false,
     "input": [
      "step()"
     ],
     "language": "python",
     "metadata": {},
     "outputs": []
    }
   ],
   "metadata": {}
  }
 ]
}